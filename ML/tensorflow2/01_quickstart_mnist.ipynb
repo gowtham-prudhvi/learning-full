{
 "cells": [
  {
   "cell_type": "markdown",
   "metadata": {},
   "source": [
    "### Quick start to Tensorflow 2 - Basic MNIST classifier using CNN\n",
    "Original [doc](https://www.tensorflow.org/tutorials/quickstart/advanced)"
   ]
  },
  {
   "cell_type": "code",
   "execution_count": 1,
   "metadata": {},
   "outputs": [],
   "source": [
    "# Use CPU as there is some cudnn issue with TF2.0 conda installation\n",
    "!export CUDA_VISIBLE_DEVICES=\"\""
   ]
  },
  {
   "cell_type": "code",
   "execution_count": 2,
   "metadata": {},
   "outputs": [
    {
     "data": {
      "text/plain": [
       "'2.2.0'"
      ]
     },
     "execution_count": 2,
     "metadata": {},
     "output_type": "execute_result"
    }
   ],
   "source": [
    "import tensorflow as tf\n",
    "from tensorflow.keras.layers import Dense, Flatten, Conv2D\n",
    "from tensorflow.keras import Model\n",
    "import tensorflow.keras.metrics as metrics\n",
    "import numpy as np\n",
    "tf.__version__"
   ]
  },
  {
   "cell_type": "markdown",
   "metadata": {},
   "source": [
    "___\n",
    "#### Checking available datasets with keras"
   ]
  },
  {
   "cell_type": "code",
   "execution_count": 3,
   "metadata": {},
   "outputs": [
    {
     "name": "stdout",
     "output_type": "stream",
     "text": [
      "cifar10\n",
      "cifar100\n",
      "imdb\n",
      "mnist\n",
      "reuters\n"
     ]
    }
   ],
   "source": [
    "# Checking available datasets with keras\n",
    "for dataset in dir(tf.keras.datasets):\n",
    "    if \"_\" not in dataset:\n",
    "        print(dataset)"
   ]
  },
  {
   "cell_type": "markdown",
   "metadata": {},
   "source": [
    "---\n",
    "#### load and prepare MNIST dataset"
   ]
  },
  {
   "cell_type": "code",
   "execution_count": 4,
   "metadata": {},
   "outputs": [
    {
     "data": {
      "text/plain": [
       "((10000, 28, 28, 1), (10000, 28, 28, 1))"
      ]
     },
     "execution_count": 4,
     "metadata": {},
     "output_type": "execute_result"
    }
   ],
   "source": [
    "mnist = tf.keras.datasets.mnist\n",
    "(x_train, y_train), (x_test, y_test) = mnist.load_data()\n",
    "\n",
    "x_train, x_test = x_train/255.0, x_test/255.0\n",
    "# Use only 10k instead of 60k for training to prevent memory issues\n",
    "x_train = x_train[..., tf.newaxis].astype(\"float32\")[:10000]\n",
    "y_train = y_train[:10000]\n",
    "# OR x_train = x_train[..., np.newaxis].astype(\"float32\")\n",
    "# OR x_train = x_train.reshape(x_train.shape[0], 28, 28, -1).astype(\"float32\")\n",
    "x_test = x_test[..., tf.newaxis].astype(\"float32\")\n",
    "\n",
    "x_train.shape, x_test.shape"
   ]
  },
  {
   "cell_type": "markdown",
   "metadata": {},
   "source": [
    "**Note:** *...* is called ellipsis and is used for slicing entire array and is equivalent to *:,:,:* in this case\n",
    "\n",
    "Refer second answer [here](https://stackoverflow.com/questions/118370/how-do-you-use-the-ellipsis-slicing-syntax-in-python) for more details\n",
    "___"
   ]
  },
  {
   "cell_type": "markdown",
   "metadata": {},
   "source": [
    "#### Shuffle and batch the dataset\n",
    "**Note:** Here 10000 is buffer size argument for shuffling.It should be greater than dataset size for perfect shuffle. [refer](https://www.tensorflow.org/api_docs/python/tf/data/Dataset#shuffle)"
   ]
  },
  {
   "cell_type": "code",
   "execution_count": 5,
   "metadata": {},
   "outputs": [],
   "source": [
    "train_ds = tf.data.Dataset.from_tensor_slices(\n",
    "    (x_train, y_train)).shuffle(10000).batch(8)\n",
    "\n",
    "test_ds = tf.data.Dataset.from_tensor_slices((x_test, y_test)).batch(8)"
   ]
  },
  {
   "cell_type": "markdown",
   "metadata": {},
   "source": [
    "___\n",
    "#### Build keras model using functional API"
   ]
  },
  {
   "cell_type": "code",
   "execution_count": 6,
   "metadata": {},
   "outputs": [],
   "source": [
    "class MyModel(Model):\n",
    "    def __init__(self):\n",
    "        super(MyModel, self).__init__()\n",
    "        # 32 : num filters , 3 : filter size\n",
    "        self.conv1 = Conv2D(32, 3, activation='relu')\n",
    "        self.flatten = Flatten()\n",
    "        self.d1 = Dense(128, activation='relu')\n",
    "        self.d2 = Dense(10)\n",
    "    def call(self, x):\n",
    "        x = self.conv1(x)\n",
    "        x = self.flatten(x)\n",
    "        x = self.d1(x)\n",
    "        x = self.d2(x)\n",
    "        return x\n",
    "model = MyModel()"
   ]
  },
  {
   "cell_type": "markdown",
   "metadata": {},
   "source": [
    "---\n",
    "#### loss and optimizer\n",
    "**Note:** Sparse categorical cross entropy is exactly same as categorical cross entropy except that Sparse version uses integer input while normal version uses one hot encodings.This saves some memory . [refer](https://stats.stackexchange.com/questions/326065/cross-entropy-vs-sparse-cross-entropy-when-to-use-one-over-the-other)"
   ]
  },
  {
   "cell_type": "code",
   "execution_count": 7,
   "metadata": {},
   "outputs": [],
   "source": [
    "loss_object = tf.keras.losses.SparseCategoricalCrossentropy(from_logits=True)\n",
    "\n",
    "optimizer = tf.keras.optimizers.Adam()"
   ]
  },
  {
   "cell_type": "markdown",
   "metadata": {},
   "source": [
    "___\n",
    "#### Metrics to measure the loss and the accuracy of the model"
   ]
  },
  {
   "cell_type": "code",
   "execution_count": 8,
   "metadata": {},
   "outputs": [],
   "source": [
    "train_loss = metrics.Mean(name='train_loss')\n",
    "train_accuracy = metrics.SparseCategoricalAccuracy(name='train_acc')\n",
    "\n",
    "test_loss = metrics.Mean(name='test_loss')\n",
    "test_accuracy = metrics.SparseCategoricalAccuracy(name='test_acc')"
   ]
  },
  {
   "cell_type": "markdown",
   "metadata": {},
   "source": [
    "___\n",
    "#### GradientTape explanation\n",
    "* Record operations for automatic differentiation\n",
    "* Trainable variables (created by `tf.Variable` or `tf.compat.v1.get_variable`,\n",
    "  where `trainable=True` is default in both cases) are automatically watched.\n",
    "  Tensors can be manually watched by invoking the `watch` method on this context\n",
    "  manager.\n",
    "* Can calculate higher order derivatives as well(Eg below)"
   ]
  },
  {
   "cell_type": "code",
   "execution_count": 9,
   "metadata": {},
   "outputs": [
    {
     "name": "stdout",
     "output_type": "stream",
     "text": [
      "tf.Tensor(6.0, shape=(), dtype=float32) tf.Tensor(2.0, shape=(), dtype=float32)\n"
     ]
    }
   ],
   "source": [
    "x = tf.constant(3.0)\n",
    "with tf.GradientTape() as g:\n",
    "    g.watch(x)\n",
    "    with tf.GradientTape() as gg:\n",
    "        gg.watch(x)\n",
    "        y = x * x\n",
    "    dy_dx = gg.gradient(y, x)     # Will compute to 6.0\n",
    "    d2y_dx2 = g.gradient(dy_dx, x)  # Will compute to 2.0\n",
    "print(dy_dx, d2y_dx2)\n"
   ]
  },
  {
   "cell_type": "markdown",
   "metadata": {},
   "source": [
    "___\n",
    "#### Train the model\n",
    "**Note:** `tf.function` Compiles a function into a callable TensorFlow graph and gives better performance in eager mode\n",
    "\n",
    "The main takeaways and recommendations are:\n",
    "\n",
    "* Debug in eager mode, then decorate with `@tf.function`.\n",
    "* Don't rely on Python side effects like object mutation or list appends.\n",
    "* `tf.function` works best with TensorFlow ops; NumPy and Python calls are converted to constants."
   ]
  },
  {
   "cell_type": "code",
   "execution_count": 10,
   "metadata": {},
   "outputs": [],
   "source": [
    "@tf.function\n",
    "def train_step(images, labels):\n",
    "    with tf.GradientTape() as tape:\n",
    "    # training=True is only when there are layers like dropout\n",
    "        predictions = model(images, training=True)\n",
    "        loss = loss_object(labels, predictions)\n",
    "    # calculate Gradients of loss function wrt all trainable variables\n",
    "    gradients = tape.gradient(loss, model.trainable_variables)\n",
    "    # apply those gradients to corresponding variables\n",
    "    optimizer.apply_gradients(zip(gradients, model.trainable_variables))\n",
    "\n",
    "    train_loss(loss)\n",
    "    train_accuracy(labels, predictions)"
   ]
  },
  {
   "cell_type": "markdown",
   "metadata": {},
   "source": [
    "___\n",
    "#### Test the model"
   ]
  },
  {
   "cell_type": "code",
   "execution_count": 11,
   "metadata": {},
   "outputs": [],
   "source": [
    "@tf.function\n",
    "def test_step(images, labels):\n",
    "    predictions = model(images, training=False)\n",
    "    loss = loss_object(labels, predictions)\n",
    "    \n",
    "    test_loss(loss)\n",
    "    test_accuracy(labels, predictions)"
   ]
  },
  {
   "cell_type": "markdown",
   "metadata": {},
   "source": [
    "___\n",
    "#### Actual training epoch by epoch using batches created above"
   ]
  },
  {
   "cell_type": "code",
   "execution_count": 12,
   "metadata": {},
   "outputs": [
    {
     "name": "stdout",
     "output_type": "stream",
     "text": [
      "Epoch 1, Loss: 0.2704825699329376, Accuracy: 92.00999450683594, Test Loss: 0.14461418986320496, Test Accuracy: 95.51000213623047\n",
      "Epoch 2, Loss: 0.06728130578994751, Accuracy: 97.86000061035156, Test Loss: 0.11313824355602264, Test Accuracy: 96.41000366210938\n",
      "Epoch 3, Loss: 0.028660165145993233, Accuracy: 99.02999877929688, Test Loss: 0.13489733636379242, Test Accuracy: 96.0\n",
      "Epoch 4, Loss: 0.01360512524843216, Accuracy: 99.61000061035156, Test Loss: 0.15111477673053741, Test Accuracy: 95.94000244140625\n",
      "Epoch 5, Loss: 0.015145039185881615, Accuracy: 99.54000091552734, Test Loss: 0.12130691111087799, Test Accuracy: 96.9000015258789\n"
     ]
    }
   ],
   "source": [
    "EPOCHS = 5\n",
    "\n",
    "for epoch in range(EPOCHS):\n",
    "    # Reset the metrics at the start of the next epoch\n",
    "    train_loss.reset_states()\n",
    "    train_accuracy.reset_states()\n",
    "    test_loss.reset_states()\n",
    "    test_accuracy.reset_states()\n",
    "    # Process train and test batches in a loop\n",
    "    for images, labels in train_ds:\n",
    "        train_step(images, labels)\n",
    "\n",
    "    for test_images, test_labels in test_ds:\n",
    "        test_step(test_images, test_labels)\n",
    "    # Output the metrics\n",
    "    template = 'Epoch {}, Loss: {}, Accuracy: {}, Test Loss: {}, Test Accuracy: {}'\n",
    "    print(template.format(epoch + 1,\n",
    "                        train_loss.result(),\n",
    "                        train_accuracy.result() * 100,\n",
    "                        test_loss.result(),\n",
    "                        test_accuracy.result() * 100))"
   ]
  },
  {
   "cell_type": "markdown",
   "metadata": {},
   "source": [
    "___\n",
    "#### Comparison with PyTorch\n",
    "* **imports**\n",
    " * `tensorflow.keras.layers` equivalent to `torch.nn`\n",
    " * `tensorflow.keras.Model` equivalent to `torch.nn.Module`\n",
    " * `tf.keras.optimizers` equivalent to `torch.optim`\n",
    "* **layers**\n",
    " * `tensorflow.keras.layers.Conv2D` and `torch.nn.Conv2d`\n",
    " * `tensorflow.keras.layers.Dense` and `torch.nn.Linear`\n",
    "* **Model declaration**\n",
    " * Activation comes default with layers in TF but needs to applied separately in PyTorch\n",
    " * `call` vs `forward`\n",
    " * Keras functional API is almost exactly same as PyTorch model declaration\n",
    "* **optimizer declaration**\n",
    " * Pytorch requires Network params at declaration\n",
    " * **Eg:** `optimizer = tf.keras.optimizers.Adam()` vs `optimizer = optim.Adam(net.parameters())`\n",
    "* **Loss function**\n",
    " * `tf.keras.losses.CategoricalCrossentropy()` vs `torch.nn.CrossEntropyLoss()`\n",
    "* **Batch Processing**\n",
    " * `for images, labels in train_ds` vs `for images, labels in trainloader`\n",
    " * Seems exactly same. Need to verify again\n",
    "* **Resetting loss to zero at the start of epoch**\n",
    " * `train_loss.reset_states()` vs `runnng_loss = 0`\n",
    "* **Forward Prop**\n",
    " * `model(images, training=True)` vs `net(inputs)`\n",
    " * Almost exactly same\n",
    "* **BackProp**\n",
    " * `gradients = tape.gradient(loss, model.trainable_variables)` vs `loss.backward()`\n",
    " * `optimizer.apply_gradients(zip(gradients, model.trainable_variables))` vs `optimizer.step()`"
   ]
  }
 ],
 "metadata": {
  "kernelspec": {
   "display_name": "Python 3",
   "language": "python",
   "name": "python3"
  },
  "language_info": {
   "codemirror_mode": {
    "name": "ipython",
    "version": 3
   },
   "file_extension": ".py",
   "mimetype": "text/x-python",
   "name": "python",
   "nbconvert_exporter": "python",
   "pygments_lexer": "ipython3",
   "version": "3.7.6"
  }
 },
 "nbformat": 4,
 "nbformat_minor": 4
}
