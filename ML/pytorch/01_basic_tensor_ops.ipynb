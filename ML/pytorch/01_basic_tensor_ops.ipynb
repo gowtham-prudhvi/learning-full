{
 "cells": [
  {
   "cell_type": "code",
   "execution_count": 2,
   "metadata": {},
   "outputs": [],
   "source": [
    "import torch\n",
    "import numpy as np"
   ]
  },
  {
   "cell_type": "markdown",
   "metadata": {},
   "source": [
    "### Basic Tensors in Pytorch"
   ]
  },
  {
   "cell_type": "code",
   "execution_count": 17,
   "metadata": {},
   "outputs": [
    {
     "name": "stdout",
     "output_type": "stream",
     "text": [
      "x.size(): torch.Size([5, 3])\n",
      "npx.shape: (5, 3)\n"
     ]
    }
   ],
   "source": [
    "#Note : Not tuple like numpy empty,zeros,rand\n",
    "x = torch.empty(5, 3)\n",
    "x = torch.zeros(5, 3, dtype=torch.long)\n",
    "npx = np.zeros((5, 3), dtype=np.float64)\n",
    "y = torch.tensor([5.6, 6.7])\n",
    "npy = np.array([5.6, 6.7])\n",
    "print(\"x.size():\", x.size()) #shape works here too\n",
    "print(\"npx.shape:\", npx.shape)"
   ]
  },
  {
   "cell_type": "markdown",
   "metadata": {},
   "source": [
    "### Pytorch supports normal addition as well as torch.add"
   ]
  },
  {
   "cell_type": "code",
   "execution_count": 20,
   "metadata": {},
   "outputs": [
    {
     "name": "stdout",
     "output_type": "stream",
     "text": [
      "tensor([5.6000, 6.7000]) tensor([11.2000, 13.4000]) torch.Size([2])\n"
     ]
    }
   ],
   "source": [
    "a = y + y\n",
    "print(y, a , a.size())\n",
    "a = torch.add(y, y)"
   ]
  },
  {
   "cell_type": "markdown",
   "metadata": {},
   "source": [
    "### Pytorch View(Equivalent to numpy reshape)"
   ]
  },
  {
   "cell_type": "code",
   "execution_count": 21,
   "metadata": {},
   "outputs": [
    {
     "name": "stdout",
     "output_type": "stream",
     "text": [
      "a.size(): torch.Size([1, 2])\n"
     ]
    }
   ],
   "source": [
    "'''View in torch is reshape equivalent in numpy'''\n",
    "a = a.view(1, 2)\n",
    "'''-1 implies it is inferred from other arguments'''\n",
    "a = a.view(-1, 2)\n",
    "print(\"a.size():\", a.size())"
   ]
  },
  {
   "cell_type": "markdown",
   "metadata": {},
   "source": [
    "### One element tensor to Python value conversion"
   ]
  },
  {
   "cell_type": "code",
   "execution_count": 24,
   "metadata": {},
   "outputs": [
    {
     "name": "stdout",
     "output_type": "stream",
     "text": [
      "x: tensor([0.1315])\n",
      "x.item(): 0.13151521980762482\n"
     ]
    }
   ],
   "source": [
    "x = torch.randn(1)\n",
    "print(\"x:\", x)\n",
    "print(\"x.item():\", x.item())"
   ]
  },
  {
   "cell_type": "markdown",
   "metadata": {},
   "source": [
    "### Tensor and Numpy array conversions.\n",
    "### Tensors and Numpy arrays use same memory locations so changing one would change the other."
   ]
  },
  {
   "cell_type": "code",
   "execution_count": 11,
   "metadata": {},
   "outputs": [
    {
     "name": "stdout",
     "output_type": "stream",
     "text": [
      "tensor([0.3667, 0.8508, 0.8214, 0.3444, 0.4932]) [0.36672986 0.8508407  0.8214445  0.3443569  0.49324048]\n",
      "tensor([1.3667, 1.8508, 1.8214, 1.3444, 1.4932]) [1.3667299 1.8508407 1.8214445 1.3443569 1.4932405]\n",
      "[0.23042243 0.03393089 0.82197046 0.07029039 0.66362785] tensor([0.2304, 0.0339, 0.8220, 0.0703, 0.6636], dtype=torch.float64)\n"
     ]
    }
   ],
   "source": [
    "#Tensor to numpy\n",
    "a = torch.rand(5)\n",
    "b = a.numpy()\n",
    "print(a, b)\n",
    "\n",
    "#a = a + 1 #This doesn't change b\n",
    "a.add_(1) #This changes b\n",
    "print(a, b)\n",
    "\n",
    "#Numpy to Tensor\n",
    "a = np.random.rand(5)\n",
    "b = torch.from_numpy(a)\n",
    "print(a, b)"
   ]
  },
  {
   "cell_type": "markdown",
   "metadata": {},
   "source": [
    "### CUDA Tensors"
   ]
  },
  {
   "cell_type": "code",
   "execution_count": 15,
   "metadata": {},
   "outputs": [
    {
     "name": "stdout",
     "output_type": "stream",
     "text": [
      "torch.cuda.is_available(): True\n",
      "x: tensor([0.5424, 0.2284, 0.3230, 0.9566, 0.5803], device='cuda:0')\n",
      "x: tensor([0.5424, 0.2284, 0.3230, 0.9566, 0.5803])\n"
     ]
    }
   ],
   "source": [
    "#Check if CUDA available\n",
    "print(\"torch.cuda.is_available():\", torch.cuda.is_available())\n",
    "\n",
    "device = torch.device(\"cuda\")\n",
    "#Create Tensor Directly on GPU\n",
    "x = torch.rand(5, device=device)\n",
    "print(\"x:\", x)\n",
    "#Move to CPU now\n",
    "x = x.to(\"cpu\")\n",
    "print(\"x:\", x)"
   ]
  }
 ],
 "metadata": {
  "kernelspec": {
   "display_name": "Python 3",
   "language": "python",
   "name": "python3"
  },
  "language_info": {
   "codemirror_mode": {
    "name": "ipython",
    "version": 3
   },
   "file_extension": ".py",
   "mimetype": "text/x-python",
   "name": "python",
   "nbconvert_exporter": "python",
   "pygments_lexer": "ipython3",
   "version": "3.7.6"
  }
 },
 "nbformat": 4,
 "nbformat_minor": 2
}
