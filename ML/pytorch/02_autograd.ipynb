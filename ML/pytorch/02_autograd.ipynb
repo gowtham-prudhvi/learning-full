{
 "cells": [
  {
   "cell_type": "markdown",
   "metadata": {},
   "source": [
    "## Autograd is a package for automatic differentiation in PyTorch"
   ]
  },
  {
   "cell_type": "code",
   "execution_count": 15,
   "metadata": {},
   "outputs": [],
   "source": [
    "import torch"
   ]
  },
  {
   "cell_type": "code",
   "execution_count": 16,
   "metadata": {},
   "outputs": [
    {
     "name": "stdout",
     "output_type": "stream",
     "text": [
      "detx: tensor([[1., 1.],\n",
      "        [1., 1.]])\n"
     ]
    }
   ],
   "source": [
    "'''requires_grad needs to be set for Tensor to track computation'''\n",
    "\n",
    "x = torch.ones(2, 2, requires_grad=True)\n",
    "#This is used to change grad\n",
    "x.requires_grad_(False)\n",
    "x.requires_grad_(True)\n",
    "\n",
    "#same content but No gradient computed\n",
    "detx = x.detach()\n",
    "print(\"detx: \" + str(detx))"
   ]
  },
  {
   "cell_type": "code",
   "execution_count": 17,
   "metadata": {},
   "outputs": [
    {
     "name": "stdout",
     "output_type": "stream",
     "text": [
      "y: tensor([[3., 3.],\n",
      "        [3., 3.]], grad_fn=<AddBackward0>)\n",
      "z: tensor([[36., 36.],\n",
      "        [36., 36.]], grad_fn=<MulBackward0>)\n",
      "output: tensor(36., grad_fn=<MeanBackward0>)\n",
      "x.grad: tensor([[6., 6.],\n",
      "        [6., 6.]])\n"
     ]
    }
   ],
   "source": [
    "y = x + 2\n",
    "#Now y has requires_grad = True\n",
    "print(\"y: \" + str(y))\n",
    "\n",
    "z = y * y * 4\n",
    "print(\"z: \" + str(z))\n",
    "\n",
    "output = z.mean()\n",
    "print(\"output: \" + str(output))\n",
    "\n",
    "output.backward()\n",
    "print(\"x.grad: \" + str(x.grad))"
   ]
  }
 ],
 "metadata": {
  "kernelspec": {
   "display_name": "Python 3",
   "language": "python",
   "name": "python3"
  },
  "language_info": {
   "codemirror_mode": {
    "name": "ipython",
    "version": 3
   },
   "file_extension": ".py",
   "mimetype": "text/x-python",
   "name": "python",
   "nbconvert_exporter": "python",
   "pygments_lexer": "ipython3",
   "version": "3.7.6"
  }
 },
 "nbformat": 4,
 "nbformat_minor": 2
}
