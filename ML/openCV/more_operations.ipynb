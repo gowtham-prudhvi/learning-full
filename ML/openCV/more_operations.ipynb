{
 "cells": [
  {
   "cell_type": "code",
   "execution_count": 1,
   "metadata": {},
   "outputs": [],
   "source": [
    "import cv2\n",
    "import numpy as np"
   ]
  },
  {
   "cell_type": "code",
   "execution_count": 3,
   "metadata": {},
   "outputs": [
    {
     "data": {
      "text/plain": [
       "-1"
      ]
     },
     "execution_count": 3,
     "metadata": {},
     "output_type": "execute_result"
    }
   ],
   "source": [
    "img = np.zeros((512, 512, 3), np.uint8)\n",
    "img[:] = 255, 0 , 0\n",
    "#Add a line a thickness 10\n",
    "cv2.line(img, (0,0), (300, 300), (0, 255, 0),10)\n",
    "cv2.rectangle(img, (300,300), (400, 400), (0, 255, 255),cv2.FILLED)\n",
    "cv2.circle(img,(400,50), 20, (255,255,0), 2)\n",
    "cv2.putText(img, \" OPENCV L\", (300, 100), cv2.FONT_HERSHEY_COMPLEX, 1, (0, 150, 0), 1)\n",
    "cv2.imshow(\"Image\", img)\n",
    "cv2.waitKey(1000)"
   ]
  },
  {
   "cell_type": "code",
   "execution_count": 7,
   "metadata": {},
   "outputs": [
    {
     "data": {
      "text/plain": [
       "-1"
      ]
     },
     "execution_count": 7,
     "metadata": {},
     "output_type": "execute_result"
    }
   ],
   "source": [
    "img = cv2.imread(\"Resources/cards.jpg\")\n",
    "\n",
    "pts1 = np.float32([[111,219], [287,188], [154,482], [352,440]])\n",
    "width,height = 250, 350\n",
    "pts2 = np.float32([[0,0], [width,0], [0,height], [width,height]])\n",
    "matrix = cv2.getPerspectiveTransform(pts1, pts2)\n",
    "imgOut = cv2.warpPerspective(img, matrix, (width, height))\n",
    "cv2.imshow(\"Output\", imgOut)\n",
    "cv2.waitKey(1000)"
   ]
  },
  {
   "cell_type": "code",
   "execution_count": 12,
   "metadata": {},
   "outputs": [
    {
     "data": {
      "text/plain": [
       "-1"
      ]
     },
     "execution_count": 12,
     "metadata": {},
     "output_type": "execute_result"
    }
   ],
   "source": [
    "imgHor = np.hstack((img, img))\n",
    "imgVer = np.vstack((imgHor, imgHor))\n",
    "cv2.imshow(\"Stacked\", imgVer)\n",
    "cv2.waitKey(1000)"
   ]
  }
 ],
 "metadata": {
  "kernelspec": {
   "display_name": "Python 3",
   "language": "python",
   "name": "python3"
  },
  "language_info": {
   "codemirror_mode": {
    "name": "ipython",
    "version": 3
   },
   "file_extension": ".py",
   "mimetype": "text/x-python",
   "name": "python",
   "nbconvert_exporter": "python",
   "pygments_lexer": "ipython3",
   "version": "3.7.6"
  }
 },
 "nbformat": 4,
 "nbformat_minor": 4
}
