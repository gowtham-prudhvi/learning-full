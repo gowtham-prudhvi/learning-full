{
 "cells": [
  {
   "cell_type": "markdown",
   "metadata": {},
   "source": [
    "### TQDM - used for progress bar for iterations(for loop)\n",
    "#### Original [tutorial](https://www.geeksforgeeks.org/python-how-to-make-a-terminal-progress-bar-using-tqdm/)"
   ]
  },
  {
   "cell_type": "code",
   "execution_count": 11,
   "metadata": {},
   "outputs": [],
   "source": [
    "from tqdm import tqdm\n",
    "from time import sleep"
   ]
  },
  {
   "cell_type": "code",
   "execution_count": 12,
   "metadata": {},
   "outputs": [
    {
     "name": "stderr",
     "output_type": "stream",
     "text": [
      "Progress bar: 100%|██████████| 100/100 [00:10<00:00,  9.95it/s]\n"
     ]
    }
   ],
   "source": [
    "#mininterval -> time between progress bar refreshes\n",
    "#desc -> text in the bar\n",
    "\n",
    "for i in tqdm(range(0, 100), mininterval = 1,  \n",
    "              desc =\"Progress bar\"): \n",
    "    sleep(.1) "
   ]
  }
 ],
 "metadata": {
  "kernelspec": {
   "display_name": "Python 3",
   "language": "python",
   "name": "python3"
  },
  "language_info": {
   "codemirror_mode": {
    "name": "ipython",
    "version": 3
   },
   "file_extension": ".py",
   "mimetype": "text/x-python",
   "name": "python",
   "nbconvert_exporter": "python",
   "pygments_lexer": "ipython3",
   "version": "3.7.6"
  }
 },
 "nbformat": 4,
 "nbformat_minor": 4
}
